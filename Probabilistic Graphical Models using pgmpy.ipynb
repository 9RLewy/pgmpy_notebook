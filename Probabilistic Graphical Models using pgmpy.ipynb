{
 "metadata": {
  "celltoolbar": "Slideshow",
  "name": "",
  "signature": "sha256:839b98c966874cae543cba23cabe24745e3e3dfa75be192f0bca469cca6508dc"
 },
 "nbformat": 3,
 "nbformat_minor": 0,
 "worksheets": [
  {
   "cells": [
    {
     "cell_type": "markdown",
     "metadata": {
      "slideshow": {
       "slide_type": "slide"
      }
     },
     "source": [
      "## Probabilistic Graphical Models (PGM)\n",
      "Probabilistic Graphical Model is a way for compactly representing Joint Probability distribution over random variables using the independence conditions of the variables. "
     ]
    },
    {
     "cell_type": "markdown",
     "metadata": {
      "slideshow": {
       "slide_type": "slide"
      }
     },
     "source": [
      "### Why PGM?\n",
      "The distinctive thing about PGM is that it provides a very intuitive and natural approach for modelling complex things along with maintaining control over the computational costs."
     ]
    },
    {
     "cell_type": "markdown",
     "metadata": {
      "slideshow": {
       "slide_type": "slide"
      }
     },
     "source": [
      "Let's see an example for predicting the housing price (consider a classification problem) so only two type of houses expensive and cheap."
     ]
    }
   ],
   "metadata": {}
  }
 ]
}